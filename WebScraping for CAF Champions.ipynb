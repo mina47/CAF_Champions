{
 "cells": [
  {
   "cell_type": "code",
   "execution_count": 1,
   "metadata": {},
   "outputs": [],
   "source": [
    "import requests\n",
    "import pandas as pd\n",
    "from bs4 import BeautifulSoup"
   ]
  },
  {
   "cell_type": "markdown",
   "metadata": {},
   "source": [
    "### Get Information from WIKI"
   ]
  },
  {
   "cell_type": "code",
   "execution_count": 2,
   "metadata": {},
   "outputs": [],
   "source": [
    "url=\"https://en.wikipedia.org/wiki/CAF_Champions_League#Performance_by_clubs.html\"\n",
    "page=requests.get(url).text"
   ]
  },
  {
   "cell_type": "code",
   "execution_count": 3,
   "metadata": {},
   "outputs": [],
   "source": [
    "soup=BeautifulSoup(page,'html.parser')\n",
    "tables=soup.find_all('table')"
   ]
  },
  {
   "cell_type": "markdown",
   "metadata": {},
   "source": [
    "### Get Specific Table From Page"
   ]
  },
  {
   "cell_type": "code",
   "execution_count": 4,
   "metadata": {},
   "outputs": [],
   "source": [
    "wanted_table_index=0\n",
    "title_of_wanted_table=\"Performances in the African Cup of Champions Clubs and CAF Champions League by club\""
   ]
  },
  {
   "cell_type": "code",
   "execution_count": 5,
   "metadata": {},
   "outputs": [],
   "source": [
    "for i,t in enumerate (tables) :\n",
    "    if title_of_wanted_table in str(t):\n",
    "        wanted_table_index=i\n",
    "CAF_Champions=tables[wanted_table_index]"
   ]
  },
  {
   "cell_type": "markdown",
   "metadata": {},
   "source": [
    "### Convert The Table to Pandas  Data Frame"
   ]
  },
  {
   "cell_type": "code",
   "execution_count": 6,
   "metadata": {},
   "outputs": [],
   "source": [
    "CAF_data=pd.DataFrame(columns=['Club','Titles','Runners Up','Seasons won','Seasons runner-up'])\n",
    "\n",
    "for i, row in enumerate(CAF_Champions.tbody.find_all('tr') ):\n",
    "    if i==0: continue\n",
    "    col=row.find_all('td')\n",
    "    name=row.find('th').text.strip()\n",
    "    titles=col[0].text.strip()\n",
    "    runners=col[1].text.strip()\n",
    "    seasons_won=col[2].text.strip()\n",
    "    seasons_runner=col[3].text.strip()\n",
    "    CAF_data=CAF_data.append({\"Club\":name ,\"Titles\":titles ,\"Runners Up\" :runners,\n",
    "                              \"Seasons won\":seasons_won ,\"Seasons runner-up\":seasons_runner},\n",
    "                                ignore_index=True)"
   ]
  },
  {
   "cell_type": "markdown",
   "metadata": {},
   "source": [
    "### Edit data type"
   ]
  },
  {
   "cell_type": "code",
   "execution_count": 7,
   "metadata": {},
   "outputs": [],
   "source": [
    "CAF_data[\"Titles\"]=CAF_data[\"Titles\"].astype(int)\n",
    "CAF_data[\"Runners Up\"]=CAF_data[\"Runners Up\"].astype(int)"
   ]
  },
  {
   "cell_type": "code",
   "execution_count": 8,
   "metadata": {},
   "outputs": [
    {
     "data": {
      "text/html": [
       "<div>\n",
       "<style scoped>\n",
       "    .dataframe tbody tr th:only-of-type {\n",
       "        vertical-align: middle;\n",
       "    }\n",
       "\n",
       "    .dataframe tbody tr th {\n",
       "        vertical-align: top;\n",
       "    }\n",
       "\n",
       "    .dataframe thead th {\n",
       "        text-align: right;\n",
       "    }\n",
       "</style>\n",
       "<table border=\"1\" class=\"dataframe\">\n",
       "  <thead>\n",
       "    <tr style=\"text-align: right;\">\n",
       "      <th></th>\n",
       "      <th>Club</th>\n",
       "      <th>Titles</th>\n",
       "      <th>Runners Up</th>\n",
       "      <th>Seasons won</th>\n",
       "      <th>Seasons runner-up</th>\n",
       "    </tr>\n",
       "  </thead>\n",
       "  <tbody>\n",
       "    <tr>\n",
       "      <th>0</th>\n",
       "      <td>Al Ahly</td>\n",
       "      <td>10</td>\n",
       "      <td>4</td>\n",
       "      <td>1982, 1987, 2001, 2005, 2006, 2008, 2012, 2013...</td>\n",
       "      <td>1983, 2007, 2017, 2018</td>\n",
       "    </tr>\n",
       "    <tr>\n",
       "      <th>1</th>\n",
       "      <td>Zamalek</td>\n",
       "      <td>5</td>\n",
       "      <td>3</td>\n",
       "      <td>1984, 1986, 1993, 1996, 2002</td>\n",
       "      <td>1994, 2016, 2020</td>\n",
       "    </tr>\n",
       "    <tr>\n",
       "      <th>2</th>\n",
       "      <td>TP Mazembe</td>\n",
       "      <td>5</td>\n",
       "      <td>2</td>\n",
       "      <td>1967, 1968, 2009, 2010, 2015</td>\n",
       "      <td>1969, 1970</td>\n",
       "    </tr>\n",
       "    <tr>\n",
       "      <th>3</th>\n",
       "      <td>ES Tunis</td>\n",
       "      <td>4</td>\n",
       "      <td>4</td>\n",
       "      <td>1994, 2011, 2018, 2019</td>\n",
       "      <td>1999, 2000, 2010, 2012</td>\n",
       "    </tr>\n",
       "    <tr>\n",
       "      <th>4</th>\n",
       "      <td>Hafia FC</td>\n",
       "      <td>3</td>\n",
       "      <td>2</td>\n",
       "      <td>1972, 1975, 1977</td>\n",
       "      <td>1976, 1978</td>\n",
       "    </tr>\n",
       "  </tbody>\n",
       "</table>\n",
       "</div>"
      ],
      "text/plain": [
       "         Club  Titles  Runners Up  \\\n",
       "0     Al Ahly      10           4   \n",
       "1     Zamalek       5           3   \n",
       "2  TP Mazembe       5           2   \n",
       "3    ES Tunis       4           4   \n",
       "4    Hafia FC       3           2   \n",
       "\n",
       "                                         Seasons won       Seasons runner-up  \n",
       "0  1982, 1987, 2001, 2005, 2006, 2008, 2012, 2013...  1983, 2007, 2017, 2018  \n",
       "1                       1984, 1986, 1993, 1996, 2002        1994, 2016, 2020  \n",
       "2                       1967, 1968, 2009, 2010, 2015              1969, 1970  \n",
       "3                             1994, 2011, 2018, 2019  1999, 2000, 2010, 2012  \n",
       "4                                   1972, 1975, 1977              1976, 1978  "
      ]
     },
     "execution_count": 8,
     "metadata": {},
     "output_type": "execute_result"
    }
   ],
   "source": [
    "CAF_data.head()"
   ]
  },
  {
   "cell_type": "markdown",
   "metadata": {},
   "source": [
    "### Add New Feature "
   ]
  },
  {
   "cell_type": "code",
   "execution_count": 9,
   "metadata": {},
   "outputs": [],
   "source": [
    "CAF_data[\"Rate Win In Final\"]=(CAF_data['Titles'])/(CAF_data['Titles'] + CAF_data['Runners Up']) *100"
   ]
  },
  {
   "cell_type": "code",
   "execution_count": 10,
   "metadata": {},
   "outputs": [],
   "source": [
    "CAF_data[\"Rate Win In Final\"]=round(CAF_data[\"Rate Win In Final\"],2)\n",
    "CAF_data[\"Rate Win In Final\"]= CAF_data[\"Rate Win In Final\"].replace(0,\"__\")"
   ]
  },
  {
   "cell_type": "code",
   "execution_count": 11,
   "metadata": {},
   "outputs": [
    {
     "data": {
      "text/html": [
       "<div>\n",
       "<style scoped>\n",
       "    .dataframe tbody tr th:only-of-type {\n",
       "        vertical-align: middle;\n",
       "    }\n",
       "\n",
       "    .dataframe tbody tr th {\n",
       "        vertical-align: top;\n",
       "    }\n",
       "\n",
       "    .dataframe thead th {\n",
       "        text-align: right;\n",
       "    }\n",
       "</style>\n",
       "<table border=\"1\" class=\"dataframe\">\n",
       "  <thead>\n",
       "    <tr style=\"text-align: right;\">\n",
       "      <th></th>\n",
       "      <th>Club</th>\n",
       "      <th>Titles</th>\n",
       "      <th>Runners Up</th>\n",
       "      <th>Seasons won</th>\n",
       "      <th>Seasons runner-up</th>\n",
       "      <th>Rate Win In Final</th>\n",
       "    </tr>\n",
       "  </thead>\n",
       "  <tbody>\n",
       "    <tr>\n",
       "      <th>0</th>\n",
       "      <td>Al Ahly</td>\n",
       "      <td>10</td>\n",
       "      <td>4</td>\n",
       "      <td>1982, 1987, 2001, 2005, 2006, 2008, 2012, 2013...</td>\n",
       "      <td>1983, 2007, 2017, 2018</td>\n",
       "      <td>71.43</td>\n",
       "    </tr>\n",
       "    <tr>\n",
       "      <th>1</th>\n",
       "      <td>Zamalek</td>\n",
       "      <td>5</td>\n",
       "      <td>3</td>\n",
       "      <td>1984, 1986, 1993, 1996, 2002</td>\n",
       "      <td>1994, 2016, 2020</td>\n",
       "      <td>62.5</td>\n",
       "    </tr>\n",
       "    <tr>\n",
       "      <th>2</th>\n",
       "      <td>TP Mazembe</td>\n",
       "      <td>5</td>\n",
       "      <td>2</td>\n",
       "      <td>1967, 1968, 2009, 2010, 2015</td>\n",
       "      <td>1969, 1970</td>\n",
       "      <td>71.43</td>\n",
       "    </tr>\n",
       "    <tr>\n",
       "      <th>3</th>\n",
       "      <td>ES Tunis</td>\n",
       "      <td>4</td>\n",
       "      <td>4</td>\n",
       "      <td>1994, 2011, 2018, 2019</td>\n",
       "      <td>1999, 2000, 2010, 2012</td>\n",
       "      <td>50</td>\n",
       "    </tr>\n",
       "    <tr>\n",
       "      <th>4</th>\n",
       "      <td>Hafia FC</td>\n",
       "      <td>3</td>\n",
       "      <td>2</td>\n",
       "      <td>1972, 1975, 1977</td>\n",
       "      <td>1976, 1978</td>\n",
       "      <td>60</td>\n",
       "    </tr>\n",
       "    <tr>\n",
       "      <th>5</th>\n",
       "      <td>Raja Casablanca</td>\n",
       "      <td>3</td>\n",
       "      <td>1</td>\n",
       "      <td>1989, 1997, 1999</td>\n",
       "      <td>2002</td>\n",
       "      <td>75</td>\n",
       "    </tr>\n",
       "    <tr>\n",
       "      <th>6</th>\n",
       "      <td>Canon Yaoundé</td>\n",
       "      <td>3</td>\n",
       "      <td>0</td>\n",
       "      <td>1971, 1978, 1980</td>\n",
       "      <td>—</td>\n",
       "      <td>100</td>\n",
       "    </tr>\n",
       "    <tr>\n",
       "      <th>7</th>\n",
       "      <td>Asante Kotoko</td>\n",
       "      <td>2</td>\n",
       "      <td>5</td>\n",
       "      <td>1970, 1983</td>\n",
       "      <td>1967, 1971, 1973, 1982, 1993</td>\n",
       "      <td>28.57</td>\n",
       "    </tr>\n",
       "    <tr>\n",
       "      <th>8</th>\n",
       "      <td>Wydad AC</td>\n",
       "      <td>2</td>\n",
       "      <td>2</td>\n",
       "      <td>1992, 2017</td>\n",
       "      <td>2011, 2019</td>\n",
       "      <td>50</td>\n",
       "    </tr>\n",
       "    <tr>\n",
       "      <th>9</th>\n",
       "      <td>JS Kabylie</td>\n",
       "      <td>2</td>\n",
       "      <td>0</td>\n",
       "      <td>1981, 1990</td>\n",
       "      <td>—</td>\n",
       "      <td>100</td>\n",
       "    </tr>\n",
       "  </tbody>\n",
       "</table>\n",
       "</div>"
      ],
      "text/plain": [
       "              Club  Titles  Runners Up  \\\n",
       "0          Al Ahly      10           4   \n",
       "1          Zamalek       5           3   \n",
       "2       TP Mazembe       5           2   \n",
       "3         ES Tunis       4           4   \n",
       "4         Hafia FC       3           2   \n",
       "5  Raja Casablanca       3           1   \n",
       "6    Canon Yaoundé       3           0   \n",
       "7    Asante Kotoko       2           5   \n",
       "8         Wydad AC       2           2   \n",
       "9       JS Kabylie       2           0   \n",
       "\n",
       "                                         Seasons won  \\\n",
       "0  1982, 1987, 2001, 2005, 2006, 2008, 2012, 2013...   \n",
       "1                       1984, 1986, 1993, 1996, 2002   \n",
       "2                       1967, 1968, 2009, 2010, 2015   \n",
       "3                             1994, 2011, 2018, 2019   \n",
       "4                                   1972, 1975, 1977   \n",
       "5                                   1989, 1997, 1999   \n",
       "6                                   1971, 1978, 1980   \n",
       "7                                         1970, 1983   \n",
       "8                                         1992, 2017   \n",
       "9                                         1981, 1990   \n",
       "\n",
       "              Seasons runner-up Rate Win In Final  \n",
       "0        1983, 2007, 2017, 2018             71.43  \n",
       "1              1994, 2016, 2020              62.5  \n",
       "2                    1969, 1970             71.43  \n",
       "3        1999, 2000, 2010, 2012                50  \n",
       "4                    1976, 1978                60  \n",
       "5                          2002                75  \n",
       "6                             —               100  \n",
       "7  1967, 1971, 1973, 1982, 1993             28.57  \n",
       "8                    2011, 2019                50  \n",
       "9                             —               100  "
      ]
     },
     "execution_count": 11,
     "metadata": {},
     "output_type": "execute_result"
    }
   ],
   "source": [
    "CAF_data.head(10)"
   ]
  },
  {
   "cell_type": "code",
   "execution_count": 12,
   "metadata": {},
   "outputs": [],
   "source": [
    "import seaborn as sns\n",
    "import matplotlib.pyplot as plt\n",
    "%matplotlib inline"
   ]
  },
  {
   "cell_type": "code",
   "execution_count": 13,
   "metadata": {},
   "outputs": [
    {
     "data": {
      "image/png": "[encoded data removed]",
      "text/plain": [
       "<Figure size 1080x1080 with 1 Axes>"
      ]
     },
     "metadata": {
      "needs_background": "light"
     },
     "output_type": "display_data"
    }
   ],
   "source": [
    "plt.figure(figsize=(15,15))\n",
    "plt.title(\"The Most 10 Clubs who when the CAF Champions\")\n",
    "sns.set_theme(style=\"dark\")\n",
    "sns.barplot(x=\"Club\",y=\"Titles\",hue=\"Club\",dodge=False,data=CAF_data[:10]);"
   ]
  },
  {
   "cell_type": "code",
   "execution_count": null,
   "metadata": {},
   "outputs": [],
   "source": []
  }
 ],
 "metadata": {
  "kernelspec": {
   "display_name": "Python 3",
   "language": "python",
   "name": "python3"
  },
  "language_info": {
   "codemirror_mode": {
    "name": "ipython",
    "version": 3
   },
   "file_extension": ".py",
   "mimetype": "text/x-python",
   "name": "python",
   "nbconvert_exporter": "python",
   "pygments_lexer": "ipython3",
   "version": "3.8.5"
  }
 },
 "nbformat": 4,
 "nbformat_minor": 4
}
